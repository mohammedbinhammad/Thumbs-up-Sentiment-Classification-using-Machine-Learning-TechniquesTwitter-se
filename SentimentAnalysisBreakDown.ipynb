{
 "cells": [
  {
   "cell_type": "markdown", 
   "metadata": {},
   "source": [
    "Step 1: Tokenization: split sentences/statements into individual words"
   ]
  },
  {
   "cell_type": "markdown",
   "metadata": {},
   "source": [
    "Step 2: clean the Data: remove all the special characters which does not add any value to the analytics part\n",
    "\n",
    "       example: characters like '.' ,',', '\"\"', '/' etc."
   ]
  },
  {
   "cell_type": "markdown",
   "metadata": {},
   "source": [
    "Step 3: remove all the special character/words which does not add any value to the analytics part\n",
    "\n",
    "\n",
    "        example: words like 'to' ,'from', 'and', 'the' , 'is/was', 'he/she/they/them'"
   ]
  },
  {
   "cell_type": "markdown",
   "metadata": {
    "ExecuteTime": {
     "end_time": "2019-03-10T11:58:28.020910Z",
     "start_time": "2019-03-10T11:58:28.014926Z"
    }
   },
   "source": [
    "Step 4: Classification them in positive, negative and neutral.\n",
    "\n",
    "        example: \"the movie was great\".\n",
    "\n",
    "        We give the sentiment score as follows: Position: +1, Negative:-1, Neutral:0"
   ]
  },
  {
   "cell_type": "markdown",
   "metadata": {},
   "source": [
    "Step 5: Apply Supervised Alogirthm for Classification - Train your model with bag of words or lexicons and once the model is trained test it on a analysing statement\n",
    "\n",
    "Note: Lexicon is a dictionary of pre classified set of words\n",
    "      \n",
    "      More accuracy means better Classification"
   ]
  },
  {
   "cell_type": "markdown",
   "metadata": {},
   "source": [
    "Step 6: Calculate the final sentiment score of the sentence to check wether it's a positive, negative or neutral"
   ]
  },
  {
   "cell_type": "code",
   "execution_count": null,
   "metadata": {},
   "outputs": [],
   "source": []
  }
 ],
 "metadata": {
  "kernelspec": {
   "display_name": "Python 3",
   "language": "python",
   "name": "python3"
  },
  "language_info": {
   "codemirror_mode": {
    "name": "ipython",
    "version": 3
   },
   "file_extension": ".py",
   "mimetype": "text/x-python",
   "name": "python",
   "nbconvert_exporter": "python",
   "pygments_lexer": "ipython3",
   "version": "3.6.8"
  },
  "toc": {
   "base_numbering": 1,
   "nav_menu": {},
   "number_sections": true,
   "sideBar": true,
   "skip_h1_title": false,
   "title_cell": "Table of Contents",
   "title_sidebar": "Contents",
   "toc_cell": false,
   "toc_position": {},
   "toc_section_display": true,
   "toc_window_display": false
  },
  "varInspector": {
   "cols": {
    "lenName": 16,
    "lenType": 16,
    "lenVar": 40
   },
   "kernels_config": {
    "python": {
     "delete_cmd_postfix": "",
     "delete_cmd_prefix": "del ",
     "library": "var_list.py",
     "varRefreshCmd": "print(var_dic_list())"
    },
    "r": {
     "delete_cmd_postfix": ") ",
     "delete_cmd_prefix": "rm(",
     "library": "var_list.r",
     "varRefreshCmd": "cat(var_dic_list()) "
    }
   },
   "types_to_exclude": [
    "module",
    "function",
    "builtin_function_or_method",
    "instance",
    "_Feature"
   ],
   "window_display": false
  }
 },
 "nbformat": 4,
 "nbformat_minor": 2
}
