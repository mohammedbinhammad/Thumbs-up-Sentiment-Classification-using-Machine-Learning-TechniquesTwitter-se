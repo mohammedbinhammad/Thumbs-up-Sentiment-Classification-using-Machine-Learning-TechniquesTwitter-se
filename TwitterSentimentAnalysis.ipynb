{
 "cells": [
  {
   "cell_type": "code",
   "execution_count": 6,
   "metadata": {
    "ExecuteTime": {
     "end_time": "2023-01-25T06:41:58.577513Z",
     "start_time": "2023-01-19T06:41:58.572526Z"
    }
   },
   "outputs": [],
   "source": [
    "#TextBlob - python library for processing textual data and allows you to perform common nlp tasks like\n",
    "#part-of-speech tagging, noun phrase extraction, sentiment analysis, classification, translation, and more.\n",
    "\n",
    "#Tweepy enables Python to communicate with Twitter platform and use its API\n",
    "\n",
    "from textblob import TextBlob \n",
    "import tweepy #nables Python to communicate with Twitter platform and use its API"
   ]
  },
  {
   "cell_type": "code",
   "execution_count": 7,
   "metadata": {
    "ExecuteTime": {
     "end_time": "2019-03-11T06:41:59.319206Z",
     "start_time": "2019-03-11T06:41:59.310236Z"
    }
   },
   "outputs": [],
   "source": [
    "#obtain the following keys from twitter dashboard\n",
    "\n",
    "#enter consumer key below\n",
    "consumer_key = 'fM9sSIoN9oTuC65TQTA42AcGh'\n",
    "\n",
    "#enter consumer secret key below\n",
    "consumer_secret = 'LeSnaQFeoHeCE8LqCHqDqeSyL6ZVSHz946NzwFpgB4qypTuodr'\n",
    "\n",
    "access_token = '625427849-XFSWT7dRokATsiiuHGHMwigYurnm2hDMTi6FFXye'\n",
    "access_token_secret = 'V5Nt3hnmIuVTZWMEKKS1jHZFDIe2LV0SZDyeJuWVPKpBC'"
   ]
  },
  {
   "cell_type": "code",
   "execution_count": 3,
   "metadata": {
    "ExecuteTime": {
     "end_time": "2019-03-11T06:41:03.253773Z",
     "start_time": "2019-03-11T06:41:03.243800Z"
    }
   },
   "outputs": [],
   "source": [
    "#used for authorization\n",
    "\n",
    "auth = tweepy.OAuthHandler(consumer_key, consumer_secret)\n",
    "auth.set_access_token(access_token, access_token_secret)"
   ]
  },
  {
   "cell_type": "code",
   "execution_count": 4,
   "metadata": {
    "ExecuteTime": {
     "end_time": "2019-03-11T06:41:03.269745Z",
     "start_time": "2019-03-11T06:41:03.260757Z"
    }
   },
   "outputs": [],
   "source": [
    "api = tweepy.API(auth)"
   ]
  },
  {
   "cell_type": "markdown",
   "metadata": {},
   "source": [
    "Sentiment(polarity = x, subjectivity = y) is basically a sentiment report\n",
    "\n",
    "polarity tells you how positive/negative a statement  is. It simply means emotions expressed in a sentence.\n",
    "\n",
    "\n",
    "subjectivity expresses some personal feelings, views, or beliefs.\n",
    "\n",
    "Note: Subjective sentence is “I like iPhone.” Subjective expressions come in many forms, e.g., opinions, allegations, desires,  beliefs, suspicions, and speculations.\n",
    "\n",
    "A subjective sentence may not express any sentiment. "
   ]
  },
  {
   "cell_type": "code",
   "execution_count": 5,
   "metadata": {
    "ExecuteTime": {
     "end_time": "2019-03-11T06:41:04.817425Z",
     "start_time": "2019-03-11T06:41:03.276308Z"
    }
   },
   "outputs": [
    {
     "name": "stdout",
     "output_type": "stream",
     "text": [
      "RT @taran_adarsh: #Badla records superb growth on Day 2... Metros/multiplexes are rocking... Day 3 [Sun] will score higher numbers... Eyes…\n",
      ".............................................................\n",
      "Sentiment(polarity=0.625, subjectivity=0.75)\n",
      "RT @taran_adarsh: #Badla records superb growth on Day 2... Metros/multiplexes are rocking... Day 3 [Sun] will score higher numbers... Eyes…\n",
      ".............................................................\n",
      "Sentiment(polarity=0.625, subjectivity=0.75)\n",
      "RT @cricbuzz: Australia register the fifth highest successful chase in the history of ODIs as India lose for the first time after posting a…\n",
      ".............................................................\n",
      "Sentiment(polarity=0.5, subjectivity=0.6416666666666666)\n",
      "#India won the toss and batted first. The openers @SDhawan25 and @ImRo45 put up a 193 run opening stand. #Dhawan we… https://t.co/MG45SWMaPE\n",
      ".............................................................\n",
      "Sentiment(polarity=0.25, subjectivity=0.3333333333333333)\n",
      "RT @cricketcomau: Amid the Aussies' run-scoring feats, it's easy to overlook the brilliance of Pat Cummins, who took his maiden 5-fer. WATC…\n",
      ".............................................................\n",
      "Sentiment(polarity=0.43333333333333335, subjectivity=0.8333333333333334)\n",
      "RT @cricbuzz: Australia register the fifth highest successful chase in the history of ODIs as India lose for the first time after posting a…\n",
      ".............................................................\n",
      "Sentiment(polarity=0.5, subjectivity=0.6416666666666666)\n",
      "RT @ITGDsports: #INDvAUS Shikhar Dhawan after career-best ODI score in Mohali: “When I feel hurt, I move on quickly. And I don't really kno…\n",
      ".............................................................\n",
      "Sentiment(polarity=0.26666666666666666, subjectivity=0.35)\n",
      "Side Effects of MSD not in the team:-\n",
      "Aussies🇦🇺 won despite the huge score put on by team India🇮🇳! \n",
      "What Say!!… https://t.co/hJeeVLNX92\n",
      ".............................................................\n",
      "Sentiment(polarity=0.5000000000000001, subjectivity=0.9)\n",
      "RT @ITGDsports: #INDvAUS Shikhar Dhawan after career-best ODI score in Mohali: “When I feel hurt, I move on quickly. And I don't really kno…\n",
      ".............................................................\n",
      "Sentiment(polarity=0.26666666666666666, subjectivity=0.35)\n",
      "RT @ITGDsports: #INDvAUS Shikhar Dhawan after career-best ODI score in Mohali: “When I feel hurt, I move on quickly. And I don't really kno…\n",
      ".............................................................\n",
      "Sentiment(polarity=0.26666666666666666, subjectivity=0.35)\n",
      "RT @ITGDsports: #INDvAUS Shikhar Dhawan after career-best ODI score in Mohali: “When I feel hurt, I move on quickly. And I don't really kno…\n",
      ".............................................................\n",
      "Sentiment(polarity=0.26666666666666666, subjectivity=0.35)\n",
      "RT @cricketcomau: Amid the Aussies' run-scoring feats, it's easy to overlook the brilliance of Pat Cummins, who took his maiden 5-fer. WATC…\n",
      ".............................................................\n",
      "Sentiment(polarity=0.43333333333333335, subjectivity=0.8333333333333334)\n",
      "RT @ITGDsports: #INDvAUS Shikhar Dhawan after career-best ODI score in Mohali: “When I feel hurt, I move on quickly. And I don't really kno…\n",
      ".............................................................\n",
      "Sentiment(polarity=0.26666666666666666, subjectivity=0.35)\n",
      "RT @RahulM45_: India's Top 10 best Run score pairs \n",
      "SRT-Dada 8227 Runs\n",
      "Dhawan-Sharma 4571\n",
      "Viru-SRT 4387\n",
      "RSD -Ganguly 4332 \n",
      "Kohli -Ro 4328\n",
      "D…\n",
      ".............................................................\n",
      "Sentiment(polarity=0.75, subjectivity=0.4)\n",
      "#INDvAUS Shikhar Dhawan after career-best ODI score in Mohali: “When I feel hurt, I move on quickly. And I don't re… https://t.co/ZUdQi8eWui\n",
      ".............................................................\n",
      "Sentiment(polarity=0.3333333333333333, subjectivity=0.5)\n"
     ]
    }
   ],
   "source": [
    "public_tweets = api.search('India score')\n",
    "\n",
    "for tweet in public_tweets:\n",
    "    print(tweet.text)\n",
    "    print('.............................................................')\n",
    "    analysis = TextBlob(tweet.text)\n",
    "    print(analysis.sentiment)"
   ]
  },
  {
   "cell_type": "code",
   "execution_count": null,
   "metadata": {},
   "outputs": [],
   "source": []
  }
 ],
 "metadata": {
  "kernelspec": {
   "display_name": "Python 3",
   "language": "python",
   "name": "python3"
  },
  "language_info": {
   "codemirror_mode": {
    "name": "ipython",
    "version": 3
   },
   "file_extension": ".py",
   "mimetype": "text/x-python",
   "name": "python",
   "nbconvert_exporter": "python",
   "pygments_lexer": "ipython3",
   "version": "3.6.8"
  },
  "toc": {
   "base_numbering": 1,
   "nav_menu": {},
   "number_sections": true,
   "sideBar": true,
   "skip_h1_title": false,
   "title_cell": "Table of Contents",
   "title_sidebar": "Contents",
   "toc_cell": false,
   "toc_position": {},
   "toc_section_display": true,
   "toc_window_display": false
  },
  "varInspector": {
   "cols": {
    "lenName": 16,
    "lenType": 16,
    "lenVar": 40
   },
   "kernels_config": {
    "python": {
     "delete_cmd_postfix": "",
     "delete_cmd_prefix": "del ",
     "library": "var_list.py",
     "varRefreshCmd": "print(var_dic_list())"
    },
    "r": {
     "delete_cmd_postfix": ") ",
     "delete_cmd_prefix": "rm(",
     "library": "var_list.r",
     "varRefreshCmd": "cat(var_dic_list()) "
    }
   },
   "types_to_exclude": [
    "module",
    "function",
    "builtin_function_or_method",
    "instance",
    "_Feature"
   ],
   "window_display": false
  }
 },
 "nbformat": 4,
 "nbformat_minor": 2
}
